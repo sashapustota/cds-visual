{
 "cells": [
  {
   "cell_type": "markdown",
   "metadata": {},
   "source": [
    "## Introducing ```numpy``` and arrays"
   ]
  },
  {
   "cell_type": "markdown",
   "metadata": {},
   "source": [
    "To begin processing image data, we need to understand what's going on behind the scenes.\n",
    "\n",
    "We can do that using a library called ```numpy```, which stands for __Numerical Python__. \n",
    "\n",
    "In general, you should use this library when you want to do fancy mathemtical operations with numbers, especially if you have arrays or matrices."
   ]
  },
  {
   "cell_type": "code",
   "execution_count": 2,
   "metadata": {
    "tags": []
   },
   "outputs": [],
   "source": [
    "# tools for interacting with the operating system\n",
    "import os\n",
    "\n",
    "# tool fo working with arrays\n",
    "# creating an abbreviation to save keystrokes\n",
    "import numpy as np"
   ]
  },
  {
   "cell_type": "code",
<<<<<<< HEAD
   "execution_count": 5,
=======
   "execution_count": 3,
>>>>>>> a1f1db9188f01e13d41f4fdaffb1ebac26a37023
   "metadata": {
    "tags": []
   },
   "outputs": [],
   "source": [
<<<<<<< HEAD
    "# load data from a folder called data in my local directory\n",
    "data = np.loadtxt(fname='../data/sample-data/sample-data-01.csv', delimiter=',')"
   ]
  },
  {
   "cell_type": "code",
   "execution_count": 6,
   "metadata": {
    "tags": []
   },
   "outputs": [
    {
     "name": "stdout",
     "output_type": "stream",
     "text": [
      "[[0. 0. 1. ... 3. 0. 0.]\n",
      " [0. 1. 2. ... 1. 0. 1.]\n",
      " [0. 1. 1. ... 2. 1. 1.]\n",
      " ...\n",
      " [0. 1. 1. ... 1. 1. 1.]\n",
      " [0. 0. 0. ... 0. 2. 0.]\n",
      " [0. 0. 1. ... 1. 1. 0.]]\n"
     ]
    }
   ],
   "source": [
    "# show array\n",
    "print(data)"
=======
    "filepath = os.path.join(\"..\", \"data\", \"sample-data\", \"sample-data-01.csv\")"
>>>>>>> a1f1db9188f01e13d41f4fdaffb1ebac26a37023
   ]
  },
  {
   "cell_type": "markdown",
   "metadata": {},
   "source": [
    "The expression ```numpy.loadtxt(...)``` is a function call that asks Python to run the function ```loadtxt``` which belongs to the ```numpy``` library. This dotted notation is used everywhere in Python: the thing that appears before the dot contains the thing that appears after.\n",
    "\n",
    "\n",
    "```numpy.loadtxt``` has two parameters: the name of the file we want to read and the delimiter that separates values on a line. These both need to be character strings (or strings for short), so we put them in quotes."
   ]
  },
  {
   "cell_type": "markdown",
   "metadata": {},
   "source": [
    "__Assign to variable__"
   ]
  },
  {
   "cell_type": "code",
   "execution_count": 4,
   "metadata": {},
   "outputs": [],
   "source": [
<<<<<<< HEAD
    "# load array\n"
=======
    "# load comma separated file\n",
    "data = np.loadtxt(fname=filepath, delimiter=',')"
>>>>>>> a1f1db9188f01e13d41f4fdaffb1ebac26a37023
   ]
  },
  {
   "cell_type": "code",
   "execution_count": 5,
   "metadata": {},
   "outputs": [
    {
     "name": "stdout",
     "output_type": "stream",
     "text": [
      "[[0. 0. 1. ... 3. 0. 0.]\n",
      " [0. 1. 2. ... 1. 0. 1.]\n",
      " [0. 1. 1. ... 2. 1. 1.]\n",
      " ...\n",
      " [0. 1. 1. ... 1. 1. 1.]\n",
      " [0. 0. 0. ... 0. 2. 0.]\n",
      " [0. 0. 1. ... 1. 1. 0.]]\n"
     ]
    }
   ],
   "source": [
    "# inspect array\n",
    "print(data)"
   ]
  },
  {
   "cell_type": "code",
   "execution_count": 6,
   "metadata": {},
   "outputs": [
    {
     "name": "stdout",
     "output_type": "stream",
     "text": [
      "<class 'numpy.ndarray'>\n"
     ]
    }
   ],
   "source": [
    "# print data type\n",
    "print(type(data))"
   ]
  },
  {
   "cell_type": "markdown",
   "metadata": {},
   "source": [
    "__numpy.ndarray__ tells us that we are working with an N-dimensional array\n",
    "\n",
    "In this case, it's 2-dimensional"
   ]
  },
  {
   "cell_type": "code",
<<<<<<< HEAD
   "execution_count": 8,
=======
   "execution_count": 7,
>>>>>>> a1f1db9188f01e13d41f4fdaffb1ebac26a37023
   "metadata": {
    "tags": []
   },
   "outputs": [
    {
     "name": "stdout",
     "output_type": "stream",
     "text": [
<<<<<<< HEAD
      "<class 'numpy.ndarray'>\n"
=======
      "float64\n"
>>>>>>> a1f1db9188f01e13d41f4fdaffb1ebac26a37023
     ]
    }
   ],
   "source": [
    "# print type of data points\n",
<<<<<<< HEAD
    "print(type(data))"
=======
    "print(data.dtype)"
>>>>>>> a1f1db9188f01e13d41f4fdaffb1ebac26a37023
   ]
  },
  {
   "cell_type": "code",
<<<<<<< HEAD
   "execution_count": 9,
=======
   "execution_count": 8,
>>>>>>> a1f1db9188f01e13d41f4fdaffb1ebac26a37023
   "metadata": {},
   "outputs": [
    {
     "name": "stdout",
     "output_type": "stream",
     "text": [
      "(60, 40)\n"
     ]
    }
   ],
   "source": [
    "# print shape\n",
    "print(data.shape)"
   ]
  },
  {
   "cell_type": "code",
   "execution_count": 9,
   "metadata": {},
   "outputs": [
    {
     "name": "stdout",
     "output_type": "stream",
     "text": [
      "2400\n"
     ]
    }
   ],
   "source": [
    "# check shape\n",
    "print(60*40)"
   ]
  },
  {
   "cell_type": "markdown",
   "metadata": {},
   "source": [
    "__Index__"
   ]
  },
  {
   "cell_type": "markdown",
   "metadata": {},
   "source": [
    "Indexing is similar to lists and strings, but we need to inlcude both row and column"
   ]
  },
  {
   "cell_type": "code",
<<<<<<< HEAD
   "execution_count": 13,
=======
   "execution_count": 10,
>>>>>>> a1f1db9188f01e13d41f4fdaffb1ebac26a37023
   "metadata": {},
   "outputs": [
    {
     "name": "stdout",
     "output_type": "stream",
     "text": [
      "2.0\n"
     ]
    }
   ],
   "source": [
<<<<<<< HEAD
    "# your code here\n",
    "print(data[1][4])"
=======
    "# get first entry\n",
    "first_value = data[0, 0]"
>>>>>>> a1f1db9188f01e13d41f4fdaffb1ebac26a37023
   ]
  },
  {
   "cell_type": "code",
   "execution_count": 11,
   "metadata": {},
   "outputs": [
    {
     "name": "stdout",
     "output_type": "stream",
     "text": [
      "First value in data: 0.0\n"
     ]
    }
   ],
   "source": [
    "print(f\"First value in data: {first_value}\")"
   ]
  },
  {
   "cell_type": "markdown",
   "metadata": {},
   "source": [
    "__Question:__ What is the middle value of the array?"
   ]
  },
  {
   "cell_type": "code",
   "execution_count": 12,
   "metadata": {},
   "outputs": [],
   "source": [
    "middle_value = data[30, 20]"
   ]
  },
  {
   "attachments": {},
   "cell_type": "markdown",
   "metadata": {},
   "source": [
    "Print the value of ```middle_value``` to the screen:"
   ]
  },
  {
   "cell_type": "code",
   "execution_count": 13,
   "metadata": {},
   "outputs": [
    {
     "name": "stdout",
     "output_type": "stream",
     "text": [
      "Middle value in data: 13.0\n"
     ]
    }
   ],
   "source": [
    "print(f\"Middle value in data: {middle_value}\")"
   ]
  },
  {
   "attachments": {},
   "cell_type": "markdown",
   "metadata": {},
   "source": [
    "<img src=\"../data/viz/python-zero-index.svg\">"
   ]
  },
  {
   "cell_type": "markdown",
   "metadata": {},
   "source": [
    "__Slice__"
   ]
  },
  {
   "cell_type": "markdown",
   "metadata": {},
   "source": [
    "An index like [30, 20] selects a single element of an array, but we can select whole sections as well. \n",
    "\n",
    "For example, we can select the first ten columns of values for the first four rows like this:"
   ]
  },
  {
   "cell_type": "code",
   "execution_count": null,
   "metadata": {},
   "outputs": [],
   "source": [
    "data"
   ]
  },
  {
   "cell_type": "code",
<<<<<<< HEAD
   "execution_count": 19,
=======
   "execution_count": 16,
>>>>>>> a1f1db9188f01e13d41f4fdaffb1ebac26a37023
   "metadata": {},
   "outputs": [
    {
     "name": "stdout",
     "output_type": "stream",
     "text": [
      "[[0. 0. 1. 3. 1. 2. 4. 7. 8. 3.]\n",
      " [0. 1. 2. 1. 2. 1. 3. 2. 2. 6.]\n",
      " [0. 1. 1. 3. 3. 2. 6. 2. 5. 9.]\n",
      " [0. 0. 2. 0. 4. 2. 2. 1. 6. 7.]]\n"
     ]
    }
   ],
   "source": [
    "# your code here\n",
<<<<<<< HEAD
    "print(data[:4, :10])"
=======
    "print(data[0:4, 0:10])"
   ]
  },
  {
   "attachments": {},
   "cell_type": "markdown",
   "metadata": {},
   "source": [
    "First ten columns, rows five-ten?"
   ]
  },
  {
   "cell_type": "code",
   "execution_count": 18,
   "metadata": {},
   "outputs": [
    {
     "name": "stdout",
     "output_type": "stream",
     "text": [
      "[[0. 0. 1. 2. 2. 4. 2. 1. 6. 4.]\n",
      " [0. 0. 2. 2. 4. 2. 2. 5. 5. 8.]\n",
      " [0. 0. 1. 2. 3. 1. 2. 3. 5. 3.]\n",
      " [0. 0. 0. 3. 1. 5. 6. 5. 5. 8.]\n",
      " [0. 1. 1. 2. 1. 3. 5. 3. 5. 8.]\n",
      " [0. 1. 0. 0. 4. 3. 3. 5. 5. 4.]]\n"
     ]
    }
   ],
   "source": [
    "print(data[5:11, 0:10])"
>>>>>>> a1f1db9188f01e13d41f4fdaffb1ebac26a37023
   ]
  },
  {
   "cell_type": "markdown",
   "metadata": {},
   "source": [
    "__Select only one row__"
   ]
  },
  {
   "cell_type": "code",
   "execution_count": 19,
   "metadata": {},
   "outputs": [
    {
     "data": {
      "text/plain": [
       "array([ 0.,  0.,  1.,  3.,  1.,  2.,  4.,  7.,  8.,  3.,  3.,  3., 10.,\n",
       "        5.,  7.,  4.,  7.,  7., 12., 18.,  6., 13., 11., 11.,  7.,  7.,\n",
       "        4.,  6.,  8.,  8.,  4.,  4.,  5.,  7.,  3.,  4.,  2.,  3.,  0.,\n",
       "        0.])"
      ]
     },
     "execution_count": 19,
     "metadata": {},
     "output_type": "execute_result"
    }
   ],
   "source": [
    "data[0,:]"
   ]
  },
  {
   "cell_type": "markdown",
   "metadata": {},
   "source": [
    "__Select only one column__"
   ]
  },
  {
   "cell_type": "code",
   "execution_count": 20,
   "metadata": {},
   "outputs": [
    {
     "data": {
      "text/plain": [
       "array([0., 0., 0., 0., 0., 0., 0., 0., 0., 0., 0., 0., 0., 0., 0., 0., 0.,\n",
       "       0., 0., 0., 0., 0., 0., 0., 0., 0., 0., 0., 0., 0., 0., 0., 0., 0.,\n",
       "       0., 0., 0., 0., 0., 0., 0., 0., 0., 0., 0., 0., 0., 0., 0., 0., 0.,\n",
       "       0., 0., 0., 0., 0., 0., 0., 0., 0.])"
      ]
     },
     "execution_count": 20,
     "metadata": {},
     "output_type": "execute_result"
    }
   ],
   "source": [
    "data[:,0]"
   ]
  },
  {
   "cell_type": "markdown",
   "metadata": {},
   "source": [
    "__Numpy functions__"
   ]
  },
  {
   "attachments": {},
   "cell_type": "markdown",
   "metadata": {},
   "source": [
    "```numpy``` comes with a range of built-in methods which allow you to quickly and efficiently calculate descriptive statistics for an array."
   ]
  },
  {
   "cell_type": "code",
   "execution_count": 21,
   "metadata": {},
   "outputs": [
    {
     "data": {
      "text/plain": [
       "6.14875"
      ]
     },
     "execution_count": 21,
     "metadata": {},
     "output_type": "execute_result"
    }
   ],
   "source": [
    "# your code here\n",
    "np.mean(data)"
   ]
  },
  {
   "cell_type": "code",
   "execution_count": 22,
   "metadata": {},
   "outputs": [],
   "source": [
    "# your code here\n",
    "max_value, min_value, std_dev = np.max(data), np.min(data), np.std(data)"
   ]
  },
  {
   "cell_type": "code",
   "execution_count": 27,
   "metadata": {},
   "outputs": [
    {
     "data": {
      "text/plain": [
       "5.0"
      ]
     },
     "execution_count": 27,
     "metadata": {},
     "output_type": "execute_result"
    }
   ],
   "source": [
    "max_value, min_value, std_dev = np.max(data), np.min(data), np.std(data)"
   ]
  },
  {
   "cell_type": "code",
   "execution_count": null,
   "metadata": {},
   "outputs": [],
   "source": [
    "print(f\"Maximum: {max_value}\")\n",
    "print(f\"Minimum: {min_value}\")\n",
    "print(f\"Standard deviation: {std_dev}\")"
   ]
  },
  {
   "cell_type": "markdown",
   "metadata": {},
   "source": [
    "Show numpy + dot + tab, access full range of options. Show ```help()```"
   ]
  },
  {
   "cell_type": "code",
   "execution_count": null,
   "metadata": {},
   "outputs": [],
   "source": [
    "help(np.count_nonzero)"
   ]
  },
  {
   "cell_type": "markdown",
   "metadata": {},
   "source": [
    "__Operation across rows__"
   ]
  },
  {
   "cell_type": "code",
   "execution_count": null,
   "metadata": {},
   "outputs": [],
   "source": [
    "print(np.mean(data, axis=0))"
   ]
  },
  {
   "cell_type": "code",
   "execution_count": null,
   "metadata": {},
   "outputs": [],
   "source": [
    "print(np.mean(data, axis=0).shape)"
   ]
  },
  {
   "cell_type": "markdown",
   "metadata": {},
   "source": [
    "\"Average score per day\""
   ]
  },
  {
   "cell_type": "markdown",
   "metadata": {},
   "source": [
    "__Operation along columns__"
   ]
  },
  {
   "cell_type": "markdown",
   "metadata": {},
   "source": [
    "\"Average score per patient\""
   ]
  },
  {
   "attachments": {},
   "cell_type": "markdown",
   "metadata": {},
   "source": [
    "<img src=\"../data/viz/numpy-axes.png\">"
   ]
  },
  {
   "cell_type": "code",
   "execution_count": null,
   "metadata": {},
   "outputs": [],
   "source": [
    "print(np.mean(data, axis=1))"
   ]
  },
  {
   "cell_type": "code",
   "execution_count": null,
   "metadata": {},
   "outputs": [],
   "source": [
    "print(np.mean(data, axis=1).shape)"
   ]
  },
  {
   "cell_type": "markdown",
   "metadata": {},
   "source": [
    "This is a good overview to show how things work wiht ```numpy```:\n",
    "\n",
    "https://www.sharpsightlabs.com/blog/numpy-axes-explained/"
   ]
  },
  {
   "cell_type": "markdown",
   "metadata": {},
   "source": [
    "## Basic image processing with OpenCV"
   ]
  },
  {
   "cell_type": "markdown",
   "metadata": {},
   "source": [
    "We start by loading all of the modules we'll need for this class"
   ]
  },
  {
   "cell_type": "code",
<<<<<<< HEAD
   "execution_count": 20,
=======
   "execution_count": 28,
>>>>>>> a1f1db9188f01e13d41f4fdaffb1ebac26a37023
   "metadata": {
    "tags": []
   },
   "outputs": [],
   "source": [
    "# We need to incldue the home directory in our path, so we can read in our own module.\n",
    "import sys\n",
    "sys.path.append(\"..\")\n",
    "\n",
    "# python framework for working with images\n",
    "import cv2"
   ]
  },
  {
   "cell_type": "code",
<<<<<<< HEAD
   "execution_count": 21,
=======
   "execution_count": 29,
>>>>>>> a1f1db9188f01e13d41f4fdaffb1ebac26a37023
   "metadata": {
    "tags": []
   },
   "outputs": [],
   "source": [
    "# some utility functions for plotting images\n",
    "from utils.imutils import jimshow"
   ]
  },
  {
   "cell_type": "code",
   "execution_count": 22,
   "metadata": {},
   "outputs": [],
   "source": [
    "import matplotlib as plt"
   ]
  },
  {
   "cell_type": "markdown",
   "metadata": {},
   "source": [
    "__Read image__"
   ]
  },
  {
   "cell_type": "markdown",
   "metadata": {},
   "source": [
    "We can load an image using a handy function from OpenCV"
   ]
  },
  {
   "cell_type": "code",
<<<<<<< HEAD
   "execution_count": 24,
=======
   "execution_count": 36,
>>>>>>> a1f1db9188f01e13d41f4fdaffb1ebac26a37023
   "metadata": {
    "tags": []
   },
   "outputs": [],
   "source": [
<<<<<<< HEAD
    "# specify path to image\n",
    "path_to_image = os.path.join('..', 'data', 'img', 'trex.png')\n"
=======
    "path_to_image = os.path.join(\"..\", \"data\", \"img\", \"trex.png\")"
>>>>>>> a1f1db9188f01e13d41f4fdaffb1ebac26a37023
   ]
  },
  {
   "cell_type": "code",
<<<<<<< HEAD
   "execution_count": 25,
=======
   "execution_count": 37,
>>>>>>> a1f1db9188f01e13d41f4fdaffb1ebac26a37023
   "metadata": {
    "tags": []
   },
   "outputs": [],
   "source": [
<<<<<<< HEAD
    "# load image\n",
    "\n",
=======
    "# load using cv2\n",
>>>>>>> a1f1db9188f01e13d41f4fdaffb1ebac26a37023
    "image = cv2.imread(path_to_image)"
   ]
  },
  {
   "cell_type": "code",
<<<<<<< HEAD
   "execution_count": 27,
=======
   "execution_count": 38,
>>>>>>> a1f1db9188f01e13d41f4fdaffb1ebac26a37023
   "metadata": {},
   "outputs": [
    {
     "data": {
<<<<<<< HEAD
      "image/png": "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",
      "text/plain": [
       "<Figure size 350x228 with 1 Axes>"
      ]
     },
     "metadata": {},
=======
      "image/png": "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",
      "text/plain": [
       "<Figure size 252x164.16 with 1 Axes>"
      ]
     },
     "metadata": {
      "needs_background": "light"
     },
>>>>>>> a1f1db9188f01e13d41f4fdaffb1ebac26a37023
     "output_type": "display_data"
    }
   ],
   "source": [
<<<<<<< HEAD
    "# your code here\n",
    "jimshow(image, \"My dino pal\")"
=======
    "jimshow(image, \"Image\")"
>>>>>>> a1f1db9188f01e13d41f4fdaffb1ebac26a37023
   ]
  },
  {
   "cell_type": "markdown",
   "metadata": {},
   "source": [
    "__Save image__"
   ]
  },
  {
   "cell_type": "code",
<<<<<<< HEAD
   "execution_count": 29,
=======
   "execution_count": 39,
>>>>>>> a1f1db9188f01e13d41f4fdaffb1ebac26a37023
   "metadata": {},
   "outputs": [
    {
     "data": {
      "text/plain": [
       "True"
      ]
     },
     "execution_count": 29,
     "metadata": {},
     "output_type": "execute_result"
    }
   ],
   "source": [
<<<<<<< HEAD
    "# Save image\n",
    "outpath = os.path.join('..', 'data', 'img', 'trex2.png')\n",
    "cv2.imwrite(outpath, image)"
=======
    "filepath, _ = os.path.split(path_to_image)"
>>>>>>> a1f1db9188f01e13d41f4fdaffb1ebac26a37023
   ]
  },
  {
   "cell_type": "code",
<<<<<<< HEAD
   "execution_count": 31,
=======
   "execution_count": 40,
>>>>>>> a1f1db9188f01e13d41f4fdaffb1ebac26a37023
   "metadata": {},
   "outputs": [
    {
     "name": "stdout",
     "output_type": "stream",
     "text": [
      "(228, 350, 3)\n",
      "<class 'numpy.ndarray'>\n"
     ]
    }
   ],
   "source": [
<<<<<<< HEAD
    "# your code here\n",
    "print(image.shape)\n",
    "print(type(image))"
=======
    "outfile = os.path.join(filepath, \"new_dino.jpg\")"
>>>>>>> a1f1db9188f01e13d41f4fdaffb1ebac26a37023
   ]
  },
  {
   "cell_type": "code",
   "execution_count": 41,
   "metadata": {},
   "outputs": [
    {
     "data": {
      "text/plain": [
       "True"
      ]
     },
     "execution_count": 41,
     "metadata": {},
     "output_type": "execute_result"
    }
   ],
   "source": [
    "cv2.imwrite(outfile, image)"
   ]
  },
  {
   "cell_type": "markdown",
   "metadata": {},
   "source": [
    "__Inspect image__"
   ]
  },
  {
   "cell_type": "code",
   "execution_count": 42,
   "metadata": {},
   "outputs": [
    {
     "name": "stdout",
     "output_type": "stream",
     "text": [
      "<class 'numpy.ndarray'>\n"
     ]
    }
   ],
   "source": [
    "print(type(image))"
   ]
  },
  {
   "cell_type": "code",
   "execution_count": 43,
   "metadata": {},
   "outputs": [
    {
     "name": "stdout",
     "output_type": "stream",
     "text": [
      "(228, 350, 3)\n"
     ]
    }
   ],
   "source": [
    "print(image.shape)"
   ]
  },
  {
   "cell_type": "markdown",
   "metadata": {},
   "source": [
    "## What is an image?"
   ]
  },
  {
   "cell_type": "markdown",
   "metadata": {},
   "source": [
    "__Remember how ```numpy``` arrays work!__\n",
    "\n",
    "ROWSxCOLUMNS == HEIGHTxWIDTH"
   ]
  },
  {
   "cell_type": "code",
   "execution_count": 44,
   "metadata": {},
   "outputs": [],
   "source": [
    "height = image.shape[0]\n",
    "width = image.shape[1]"
   ]
  },
  {
   "cell_type": "code",
   "execution_count": 45,
   "metadata": {},
   "outputs": [
    {
     "name": "stdout",
     "output_type": "stream",
     "text": [
      "[INFO] Image height: 228 pixels\n",
      "[INFO] Image width: 350 pixels\n"
     ]
    }
   ],
   "source": [
    "print(f\"[INFO] Image height: {height} pixels\")\n",
    "print(f\"[INFO] Image width: {width} pixels\")"
   ]
  },
  {
   "cell_type": "markdown",
   "metadata": {},
   "source": [
    "In our image, there are 228*350 = 79,800 pixels"
   ]
  },
  {
   "cell_type": "markdown",
   "metadata": {},
   "source": [
    "__What about the last one?__"
   ]
  },
  {
   "cell_type": "code",
   "execution_count": 46,
   "metadata": {},
   "outputs": [
    {
     "data": {
      "text/plain": [
       "3"
      ]
     },
     "execution_count": 46,
     "metadata": {},
     "output_type": "execute_result"
    }
   ],
   "source": [
    "image.shape[2]"
   ]
  },
  {
   "attachments": {},
   "cell_type": "markdown",
   "metadata": {},
   "source": [
    "<img src=\"../data/viz/3-channels.png\">"
   ]
  },
  {
   "cell_type": "markdown",
   "metadata": {},
   "source": [
    "__NB!__\n",
    "\n",
    "```OpenCV``` stores RGB tuples in REVERSE ORDER"
   ]
  },
  {
   "cell_type": "markdown",
   "metadata": {},
   "source": [
    "__What colour is a specific pixel?__"
   ]
  },
  {
   "cell_type": "code",
   "execution_count": 47,
   "metadata": {},
   "outputs": [],
   "source": [
    "# get values of first pixel \n",
    "b, g, r = image[0, 0]"
   ]
  },
  {
   "cell_type": "code",
   "execution_count": 49,
   "metadata": {},
   "outputs": [
    {
     "name": "stdout",
     "output_type": "stream",
     "text": [
      "[INFO] pixels at (0, 0) - Red: 254, Green 254, Blue: 254\n"
     ]
    }
   ],
   "source": [
    "print(f\"[INFO] pixels at (0, 0) - Red: {r}, Green {g}, Blue: {b}\")"
   ]
  },
  {
   "cell_type": "markdown",
   "metadata": {},
   "source": [
    "__Modify colour__"
   ]
  },
  {
   "cell_type": "code",
   "execution_count": 50,
   "metadata": {},
   "outputs": [],
   "source": [
    "image[0, 0] = (0, 0, 255) # remember - blue, green, red!\n",
    "(b, g, r) = image[0, 0]"
   ]
  },
  {
   "cell_type": "code",
   "execution_count": 51,
   "metadata": {},
   "outputs": [
    {
     "name": "stdout",
     "output_type": "stream",
     "text": [
      "[INFO] pixels at (0, 0) - Red: 255, Green 0, Blue: 0\n"
     ]
    }
   ],
   "source": [
    "print(f\"[INFO] pixels at (0, 0) - Red: {r}, Green {g}, Blue: {b}\")"
   ]
  },
  {
   "cell_type": "markdown",
   "metadata": {},
   "source": [
    "__Image slice__"
   ]
  },
  {
   "cell_type": "code",
   "execution_count": 52,
   "metadata": {},
   "outputs": [],
   "source": [
    "corner = image[0:100, 0:100]"
   ]
  },
  {
   "cell_type": "code",
   "execution_count": 53,
   "metadata": {},
   "outputs": [
    {
     "data": {
      "image/png": "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",
      "text/plain": [
       "<Figure size 100x100 with 1 Axes>"
      ]
     },
     "metadata": {
      "needs_background": "light"
     },
     "output_type": "display_data"
    }
   ],
   "source": [
    "jimshow(corner, \"Corner\")"
   ]
  },
  {
   "cell_type": "markdown",
   "metadata": {},
   "source": [
    "__Change corner colour__"
   ]
  },
  {
   "cell_type": "code",
   "execution_count": 54,
   "metadata": {},
   "outputs": [],
   "source": [
    "image[0:100,0:100] = (0, 0, 255)"
   ]
  },
  {
   "cell_type": "code",
   "execution_count": 55,
   "metadata": {},
   "outputs": [
    {
     "data": {
      "image/png": "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",
      "text/plain": [
       "<Figure size 350x228 with 1 Axes>"
      ]
     },
     "metadata": {
      "needs_background": "light"
     },
     "output_type": "display_data"
    }
   ],
   "source": [
    "jimshow(image, \"Update\")"
   ]
  },
  {
   "attachments": {},
   "cell_type": "markdown",
   "metadata": {},
   "source": [
    "## Exercises\n",
    "\n",
    "- We saw how to calculate descriptive statistics for a single array. In the data folder, there are more examples of sample data in the folder called [data/sample-data](\"../data/sample-data\").\n",
    "  - Write some code which does the following steps:\n",
    "    - Load every CSV data file in the input folder one at a time\n",
    "    - For each CSV file, calculate: \n",
    "      - The mean, median, and modal values for each patient\n",
    "        - Create a list of tuples for each CSV \n",
    "          - Eg: [(```patient0_mean, patient0_median, patient0_mode```),\n",
    "                 (```patient1_mean, patient1_median, patient1_mode```),\n",
    "                 etc, etc]\n",
    "      - The same as above, but this time calculating the mean, median, and modal values for each day\n",
    "       "
   ]
  },
  {
   "cell_type": "markdown",
   "metadata": {},
   "source": []
  }
 ],
 "metadata": {
  "kernelspec": {
   "display_name": "culturaldatascience",
   "language": "python",
   "name": "python3"
  },
  "language_info": {
   "codemirror_mode": {
    "name": "ipython",
    "version": 3
   },
   "file_extension": ".py",
   "mimetype": "text/x-python",
   "name": "python",
   "nbconvert_exporter": "python",
   "pygments_lexer": "ipython3",
   "version": "3.9.13 (main, Aug  7 2022, 01:33:23) \n[Clang 13.1.6 (clang-1316.0.21.2.5)]"
  },
  "vscode": {
   "interpreter": {
    "hash": "a6dcab301d1d85af1ea512a5ed8a420306026a0364f3c276822035cde6a32c20"
   }
  }
 },
 "nbformat": 4,
 "nbformat_minor": 4
}
